{
  "cells": [
    {
      "cell_type": "markdown",
      "metadata": {
        "id": "FMqboNwO4rVs"
      },
      "source": [
        "# **Курс \"Програмування на мові Python\"**"
      ]
    },
    {
      "cell_type": "markdown",
      "metadata": {
        "id": "A2T6MigL5Z06"
      },
      "source": [
        "## **Практичне зайняття №14**\n",
        "\n",
        "### Тема: \"Робота зі спеціальними форматами файлів\""
      ]
    },
    {
      "cell_type": "markdown",
      "metadata": {
        "id": "A34oz70eU463"
      },
      "source": [
        "### **Завдання 1 (1,5 бали)**\n",
        "\n",
        "Створіть CSV-файл, що буде містити від 5 до 10 пісень (творів) вашого улюбленого музиканта. Назва файлу - ім'я музиканта (композитора) або назва гурту.\n",
        "\n",
        "1. Обов'язково додайте до файлу рядок з назвами двох колонок (Song, Year) або (Composition, Year).\n",
        "\n",
        "2. Після запису файлу роздрукуйте назву файлу та усі наявні у файлі рядки (включно із заголовками).\n",
        "\n",
        "3. Для запису та зчитування рядків скористайтесь функціями csv.DictWriter() та csv.DictReader()."
      ]
    },
    {
      "cell_type": "code",
      "execution_count": 2,
      "metadata": {
        "id": "MEJIrG1GU463"
      },
      "outputs": [
        {
          "name": "stdout",
          "output_type": "stream",
          "text": [
            "Jesper Kyd </||\\> Assassin`s Creed ||\n",
            "Song  Year  \n",
            "</||\\></||\\></||\\></||\\></||\\></||\\></||\\>\n",
            "Earth  >< 2009\n",
            "Venice Rooftops >< 2009\n",
            "Ezio's Family  >< 2009\n",
            "Sanctuary >< 2009\n",
            "Leonardo's Inventions Part 2  >< 2009\n"
          ]
        }
      ],
      "source": [
        "import csv\n",
        "\n",
        "with open(\"JesperKydAC2.csv\", 'w', newline='') as csvfile:\n",
        "    field = ['Song', 'Year']\n",
        "    writer = csv.DictWriter(csvfile, fieldnames = field)\n",
        "    writer.writeheader()\n",
        "    writer.writerow({'Song': 'Earth ',\n",
        "                     'Year': '2009'})\n",
        "    writer.writerow({'Song': 'Venice Rooftops',\n",
        "                     'Year': '2009'})\n",
        "    writer.writerow({'Song': \"Ezio's Family \",\n",
        "                     'Year': '2009'})\n",
        "    writer.writerow({'Song': 'Sanctuary',\n",
        "                     'Year': '2009'})\n",
        "    writer.writerow({'Song': \"Leonardo's Inventions Part 2 \",\n",
        "                     'Year': '2009'})\n",
        "\n",
        "with open(\"JesperKydAC2.csv\", 'r', newline='') as csvfile:\n",
        "    print(\"Jesper Kyd </||\\> Assassin`s Creed ||\")\n",
        "    reader = csv.DictReader(csvfile)\n",
        "    for i in reader.fieldnames:\n",
        "        print(i, end = '  ')\n",
        "    print()\n",
        "    print(\"</||\\>\"*7)\n",
        "    for i in reader:\n",
        "        print(i['Song'], i['Year'],sep=' >< ')"
      ]
    },
    {
      "cell_type": "markdown",
      "metadata": {
        "id": "Jb-eSBsWU464"
      },
      "source": [
        "### **Завдання 2 (1,5 бали)**\n",
        "\n",
        "COCO Dataset - набір фотографій та анотацій до них. Його дуже часто використовують для тренування класифікаторів, призначених для розпізнавання об'єктів та визначення ключових точок на зображеннях.\n",
        "\n",
        "Завантажте файли з описом фотографій COCO Dataset за посиланням: [COCO Dataset](http://images.cocodataset.org/annotations/image_info_test2017.zip).\n",
        "\n",
        "Відкрийте файл image_info_test-dev2017.json. Інформація про фотографії з бази COCO міститься у полі \"images\". Інформація про категорії, на які розділені всі фотографії, міститься у полі \"categories\".\n",
        "\n",
        "1. Визначте кількість фотографій, інформацію про які можна знайти у цьому файлі (кількість елементів, що відповідають ключу \"images\").\n",
        "\n",
        "2. Визначте кількість наявних категорій (кількість елементів, що відповідають ключу \"categories\").\n",
        "\n",
        "3. Виведіть посилання на фотографію 000000000001.jpg (\"coco_url\"). Також виведіть висоту цієї фотографії (\"height\"), ширину (\"width\") та її ідентифікатор (\"id\").\n",
        "\n",
        "4. Виведіть назву фотографії з набільшим номером.\n",
        "\n",
        "Опис структури JSON-файлу для набору фотографій COCO можна знайти за посиланням: [Data format](https://cocodataset.org/#format-data).\n",
        "\n",
        "Щоб перевірити правильність результатів, у VS Code встановіть розширення JSON та відкрийте файл image_info_test-dev2017.json. Розширення автоматично визначає кількість елементів у кожному полі."
      ]
    },
    {
      "cell_type": "code",
      "execution_count": 1,
      "metadata": {},
      "outputs": [
        {
          "name": "stdout",
          "output_type": "stream",
          "text": [
            "In file you can found 20288 images\n",
            "There are 80 different types of image catagories\n",
            "\n",
            "Some information on 000000000001.jpg:\n",
            "    - its URL is http://images.cocodataset.org/test2017/000000000001.jpg;\n",
            "    - its height is 480 and width is 640;\n",
            "    - its ID is 1.\n",
            "\n",
            "Image (with the 'highest' number) is 000000581918.jpg (or http://images.cocodataset.org/test2017/000000581918.jpg)\n"
          ]
        }
      ],
      "source": [
        "import json\n",
        "\n",
        "with open('image_info_test-dev2017.json') as image:\n",
        "    img = json.load(image)\n",
        "    max = 0\n",
        "    print(f'In file you can found {len(img[\"images\"])} images')\n",
        "    print(f'There are {len(img[\"categories\"])} different types of image catagories')\n",
        "    print()\n",
        "    \n",
        "    for i in range(len(img['images'])):\n",
        "        if img['images'][i]['id'] > max:\n",
        "            max = img['images'][i]['id']\n",
        "        if img['images'][i]['file_name'] == '000000000001.jpg':\n",
        "            url = img['images'][i]['coco_url']\n",
        "            height, width  = img['images'][i]['height'],img['images'][i]['width']\n",
        "            id = img['images'][i]['id']\n",
        "            \n",
        "    print(\"Some information on 000000000001.jpg:\")\n",
        "    print(f\"    - its URL is {url};\")\n",
        "    print(f\"    - its height is {height} and width is {width};\")\n",
        "    print(f\"    - its ID is {id}.\")\n",
        "    print()\n",
        "    \n",
        "    MV=\"0\"*(12-len(str(max)))+str(max)+\".jpg\"\n",
        "    print(f\"Image (with the 'highest' number) is {MV} (or http://images.cocodataset.org/test2017/{MV})\")\n"
      ]
    }
  ],
  "metadata": {
    "colab": {
      "collapsed_sections": [],
      "name": "Practice_14_KM_01.ipynb",
      "provenance": []
    },
    "kernelspec": {
      "display_name": "Python 3",
      "name": "python3"
    },
    "language_info": {
      "codemirror_mode": {
        "name": "ipython",
        "version": 3
      },
      "file_extension": ".py",
      "mimetype": "text/x-python",
      "name": "python",
      "nbconvert_exporter": "python",
      "pygments_lexer": "ipython3",
      "version": "3.9.0"
    }
  },
  "nbformat": 4,
  "nbformat_minor": 0
}
