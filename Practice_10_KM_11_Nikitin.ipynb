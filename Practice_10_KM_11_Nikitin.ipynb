{
  "cells": [
    {
      "cell_type": "markdown",
      "metadata": {
        "id": "FMqboNwO4rVs"
      },
      "source": [
        "# **Курс \"Програмування на мові Python\"**"
      ]
    },
    {
      "cell_type": "markdown",
      "metadata": {
        "id": "A2T6MigL5Z06"
      },
      "source": [
        "## **Практичне зайняття №10**\n",
        "\n",
        "### Тема: \"Лямбда-функції. Функції вищих порядків\""
      ]
    },
    {
      "cell_type": "markdown",
      "metadata": {
        "id": "cfCdgK2zXm7e"
      },
      "source": [
        "### **Завдання 1 (1 бал)**\n",
        "\n",
        "Продавець роздрібного товару влаштовує розпродаж. Для всіх товарів знижка однакова - 60%. Щоб вивісити нові цінники, продавець хоче скласти таблицю, в якій для кожного товару буде підрахована його нова вартість та сума знижки.\n",
        "\n",
        "Написати програму, яка буде генерувати таку таблицю. Вартість одиниць товарів до розпродажу подано у списку products_list. \n",
        "\n",
        "1. Для підрахунку невідомих значень повинні використовуватись вбудовані функції вищих порядків.\n",
        "\n",
        "2. Вартість з урахуванням знижки та суми знижок для кожного товару повинні зберігатись у двох окремих списках. Порядок товарів у нових списках повинен бути такий самий, як і в списку products_list.\n",
        "\n",
        "3. Кожне підраховане числове значення має бути округлене до сотих.\n",
        "\n",
        "4. Дані повинні виводитись у вигляді:\n",
        "\n",
        "**Discount table:**\n",
        "\n",
        "**29.25 11.7 17.55**\n",
        "\n",
        "**48.99 19.6 29.39**\n",
        "\n",
        "**...**\n",
        "\n",
        "\n",
        "products_list = [29.25, 48.99, 99.98, 124.65, 214.30, 543.90, 799.85]\n"
      ]
    },
    {
      "cell_type": "code",
      "execution_count": null,
      "metadata": {
        "id": "ifNX2M7LXm7f"
      },
      "outputs": [],
      "source": [
        "print(\"Discount table:\\n\")\n",
        "\n",
        "prod = [29.25, 48.99, 99.98, 124.65, 214.30, 543.90, 799.85]\n",
        "\n",
        "disc = list(map(lambda i: round(i/100*40,2), prod))\n",
        "diff = list(map(lambda i: round(i/100*60,2), prod))\n",
        "\n",
        "for i in range(0, len(prod)):\n",
        "    print(prod[i], disc[i], diff[i],\"\\n\")\n"
      ]
    },
    {
      "cell_type": "markdown",
      "metadata": {},
      "source": [
        "### **Завдання 2 (2 бали)**\n",
        "\n",
        "Зазвичай рік має 365 днів. Однак у високосні роки додається ще один день - 29 лютого. Правила визначення високосного року такі:\n",
        "\n",
        "- Будь-який рік, що ділиться на 400 - високосний.\n",
        "\n",
        "- З тих років, що залишились, будь-який рік, що ділиться на 100 - **не** високосний.\n",
        "\n",
        "- З тих років, що залишились, будь-який рік, що ділиться на 4 - високосний.\n",
        "\n",
        "- Усі інші роки, що залишились - **не** високосні.\n",
        "\n",
        "1) Створіть функцію, в якій за допомогою вбудованих функцій вищих порядків будуть визначатися високосні роки серед перелічених років у списку years. Створена функція має повертати список високосних років.\n",
        "\n",
        "2) Створіть функцію вищих порядків, яка прийматиме на вхід попередню функцію та визначатиме кількість днів у місяці. Також функція повинна приймати на вхід ще 2 параметри: ціле число від 1 до 12 (місяць) та рік, як ціле чотирицифрове число. Ці значення корисувач має вводити з клавіатури. Перевірку введених даних слід виконувати поза межами функцій."
      ]
    },
    {
      "cell_type": "code",
      "execution_count": null,
      "metadata": {},
      "outputs": [],
      "source": [
        "import numpy as np\n",
        "\n",
        "dayE1= [1,3,5,7,8,10,12]\n",
        "dayEO = [4,6,9,11]\n",
        "years = np.arange(1000, 9999+1, 1)\n",
        "#print(years)\n",
        "\n",
        "\n",
        "def checkyear(years):\n",
        "    suityear = sorted(list(filter(lambda i: (i%4==0)!=(i%100==0), years)) + list(filter(lambda i: (i%400==0), years)))\n",
        "    return suityear\n",
        "suityear=checkyear(years)\n",
        "#print(checkyear(years))\n",
        "\n",
        "def month_input_check():\n",
        "    try:\n",
        "        month=int(input(\"Enter the number of month: \"))\n",
        "    except ValueError:\n",
        "        print(\"Error. Entered symbols are not digits\")\n",
        "        raise SystemExit\n",
        "    else:\n",
        "        if month>=1 and month<=12:\n",
        "            return int(month)\n",
        "        elif month<1 or month>12:\n",
        "            print(\"Error.You entered wrong data.\")\n",
        "            raise SystemExit\n",
        "month=month_input_check()\n",
        "\n",
        "def year_input_check():\n",
        "    try:\n",
        "        year=int(input(\"Enter the number of year: \"))\n",
        "    except ValueError:\n",
        "        print(\"Error. Entered symbols are not digits\")\n",
        "        raise SystemExit\n",
        "    else:\n",
        "        if 1000<=year<=9999:\n",
        "            return int(year)\n",
        "        elif year<1000 or year>9999:\n",
        "            print(\"Error.You entered wrong data.\")\n",
        "            raise SystemExit\n",
        "year=year_input_check()\n",
        "\n",
        "def sub_data(month, year, suityear):\n",
        "    if month==2:\n",
        "        for a in suityear:\n",
        "            if year in suityear:\n",
        "                warhall=29\n",
        "                return warhall\n",
        "            else:\n",
        "                warhall=28\n",
        "                return warhall\n",
        "    else:\n",
        "        for a in dayE1:\n",
        "            if month in dayE1:\n",
        "                warhall=31\n",
        "                return warhall\n",
        "            elif month not in dayE1:\n",
        "                for b in dayEO:\n",
        "                    if month in dayEO:\n",
        "                        warhall=30\n",
        "                        return warhall\n",
        "warhall=sub_data(month, year, suityear)\n",
        "\n",
        "print(\"There were\",warhall, \"day(s) in\",month, \"month of\", year, \"year.\")\n"
      ]
    }
  ],
  "metadata": {
    "colab": {
      "collapsed_sections": [],
      "name": "Practice_7_KM-01_.ipynb",
      "provenance": []
    },
    "kernelspec": {
      "display_name": "Python 3",
      "name": "python3"
    }
  },
  "nbformat": 4,
  "nbformat_minor": 0
}
