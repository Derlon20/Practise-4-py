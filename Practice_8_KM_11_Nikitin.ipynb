{
  "cells": [
    {
      "cell_type": "markdown",
      "metadata": {
        "id": "FMqboNwO4rVs"
      },
      "source": [
        "# **Курс \"Програмування на мові Python\"**"
      ]
    },
    {
      "cell_type": "markdown",
      "metadata": {
        "id": "A2T6MigL5Z06"
      },
      "source": [
        "## **Практичне зайняття №8**\n",
        "\n",
        "### Тема: \"Перевірка даних. Робота з виключеннями. Регулярні вирази\""
      ]
    },
    {
      "cell_type": "markdown",
      "metadata": {
        "id": "cfCdgK2zXm7e"
      },
      "source": [
        "### **Завдання 1 (1,5 бали)**\n",
        "\n",
        "Модель tf-pose-estimation (https://github.com/ZheC/tf-pose-estimation) призначена для розпізнавання 18 ключових точок на тілі людини. Кожна точка розпізнається з певною достовірністю, що вимірюється у відсотках. Модель виводить результати у вигляді рядка:\n",
        "\n",
        "```\n",
        "[BodyPart:0-(0.55, 0.17) score=0.81 BodyPart:1-(0.49, 0.27) score=0.85 BodyPart:2-(0.41, 0.26) score=0.67 \n",
        "BodyPart:3-(0.33, 0.37) score=0.72 BodyPart:4-(0.36, 0.48) score=0.78 BodyPart:5-(0.58, 0.27) score=0.81 \n",
        "BodyPart:6-(0.65, 0.38) score=0.88 BodyPart:7-(0.62, 0.48) score=0.86 BodyPart:8-(0.43, 0.48) score=0.60 \n",
        "BodyPart:9-(0.43, 0.66) score=0.67 BodyPart:10-(0.53, 0.79) score=0.56 BodyPart:11-(0.53, 0.48) score=0.56 \n",
        "BodyPart:12-(0.59, 0.66) score=0.75 BodyPart:13-(0.49, 0.80) score=0.50 BodyPart:14-(0.54, 0.15) score=0.73 \n",
        "BodyPart:15-(0.56, 0.15) score=0.85 BodyPart:16-(0.48, 0.16) score=0.81 BodyPart:17-(0.83, 0.18) score=0.79]\n",
        "```\n",
        "\n",
        "Написати програму, яка створюватиме два списки, points та scores. В першому мають послідовно зберігатися координати точок, в другому - їхні достовірності (scores). Для поданого рядка списки матимуть вигляд:\n",
        "\n",
        "```\n",
        "points = [0.55,0.17,0.49,0.27,0.41,0.26,0.33,0.37,0.36,0.48,0.58,0.27,0.65,0.38,0.62,0.48,0.43,0.48,\n",
        "0.43,0.66,0.53,0.79,0.53,0.48,0.59,0.66,0.49,0.80,0.54,0.15,0.56,0.15,0.48,0.16,0.83,0.18]\n",
        "scores = [0.81,0.85,0.67,0.72,0.78,0.81,0.88,0.86,0.60,0.67,0.56,0.56,0.75,0.50,0.73,0.85,0.81,0.79]\n",
        "```\n",
        "\n",
        "\n",
        "1. Створити шаблон регулярного виразу.\n",
        "\n",
        "2. За допомогою функції compile() створити об'єкт регулярного виразу.\n",
        "\n",
        "3. Кількість розпізнаних точок може коливатись у межах від 0 до 18.\n",
        "\n",
        "4. Під час оцінювання коду враховуватиметься його оптимальність.\n",
        "\n",
        "5. У змінній pose_estimation зберігається тестовий рядок. Для перевірки роботи можуть використовуватись інші рядки такого ж формату."
      ]
    },
    {
      "cell_type": "code",
      "execution_count": 1,
      "metadata": {
        "id": "ifNX2M7LXm7f"
      },
      "outputs": [
        {
          "name": "stdout",
          "output_type": "stream",
          "text": [
            "[BodyPart:0-(0.55, 0.17) score=0.81 BodyPart:1-(0.49, 0.27) score=0.85 BodyPart:2-(0.41, 0.26) score=0.67 BodyPart:3-(0.33, 0.37) score=0.72 BodyPart:4-(0.36, 0.48) score=0.78 BodyPart:5-(0.58, 0.27) score=0.81 BodyPart:6-(0.65, 0.38) score=0.88 BodyPart:7-(0.62, 0.48) score=0.86 BodyPart:8-(0.43, 0.48) score=0.60 BodyPart:9-(0.43, 0.66) score=0.67 BodyPart:10-(0.53, 0.79) score=0.56 BodyPart:11-(0.53, 0.48) score=0.56 BodyPart:12-(0.59, 0.66) score=0.75 BodyPart:13-(0.49, 0.80) score=0.50 BodyPart:14-(0.54, 0.15) score=0.73 BodyPart:15-(0.56, 0.15) score=0.85 BodyPart:16-(0.48, 0.16) score=0.81 BodyPart:17-(0.83, 0.18) score=0.79 ]\n",
            "[0.55, 0.17, 0.49, 0.27, 0.41, 0.26, 0.33, 0.37, 0.36, 0.48, 0.58, 0.27, 0.65, 0.38, 0.62, 0.48, 0.43, 0.48, 0.43, 0.66, 0.53, 0.79, 0.53, 0.48, 0.59, 0.66, 0.49, 0.8, 0.54, 0.15, 0.56, 0.15, 0.48, 0.16, 0.83, 0.18]\n",
            "[0.81, 0.85, 0.67, 0.72, 0.78, 0.81, 0.88, 0.86, 0.6, 0.67, 0.56, 0.56, 0.75, 0.5, 0.73, 0.85, 0.81, 0.79]\n",
            "Body point 1 - 0.55 | 0.17     |||||||    Score: 0.81\n",
            "Body point 2 - 0.49 | 0.27     |||||||    Score: 0.85\n",
            "Body point 3 - 0.41 | 0.26     |||||||    Score: 0.67\n",
            "Body point 4 - 0.33 | 0.37     |||||||    Score: 0.72\n",
            "Body point 5 - 0.36 | 0.48     |||||||    Score: 0.78\n",
            "Body point 6 - 0.58 | 0.27     |||||||    Score: 0.81\n",
            "Body point 7 - 0.65 | 0.38     |||||||    Score: 0.88\n",
            "Body point 8 - 0.62 | 0.48     |||||||    Score: 0.86\n",
            "Body point 9 - 0.43 | 0.48     |||||||    Score: 0.6\n",
            "Body point 10 - 0.43 | 0.66     |||||||    Score: 0.67\n",
            "Body point 11 - 0.53 | 0.79     |||||||    Score: 0.56\n",
            "Body point 12 - 0.53 | 0.48     |||||||    Score: 0.56\n",
            "Body point 13 - 0.59 | 0.66     |||||||    Score: 0.75\n",
            "Body point 14 - 0.49 | 0.8     |||||||    Score: 0.5\n",
            "Body point 15 - 0.54 | 0.15     |||||||    Score: 0.73\n",
            "Body point 16 - 0.56 | 0.15     |||||||    Score: 0.85\n",
            "Body point 17 - 0.48 | 0.16     |||||||    Score: 0.81\n",
            "Body point 18 - 0.83 | 0.18     |||||||    Score: 0.79\n"
          ]
        }
      ],
      "source": [
        "import re\n",
        "pose_estimation = \"[BodyPart:0-(0.55, 0.17) score=0.81 BodyPart:1-(0.49, 0.27) score=0.85 BodyPart:2-(0.41, 0.26) score=0.67 BodyPart:3-(0.33, 0.37) score=0.72 BodyPart:4-(0.36, 0.48) score=0.78 BodyPart:5-(0.58, 0.27) score=0.81 BodyPart:6-(0.65, 0.38) score=0.88 BodyPart:7-(0.62, 0.48) score=0.86 BodyPart:8-(0.43, 0.48) score=0.60 BodyPart:9-(0.43, 0.66) score=0.67 BodyPart:10-(0.53, 0.79) score=0.56 BodyPart:11-(0.53, 0.48) score=0.56 BodyPart:12-(0.59, 0.66) score=0.75 BodyPart:13-(0.49, 0.80) score=0.50 BodyPart:14-(0.54, 0.15) score=0.73 BodyPart:15-(0.56, 0.15) score=0.85 BodyPart:16-(0.48, 0.16) score=0.81 BodyPart:17-(0.83, 0.18) score=0.79 ]\"\n",
        "points = re.compile(r'(\\d+\\.\\d+), (\\d+\\.\\d+)')\n",
        "scores = re.compile(r'=(\\d+\\.\\d+)')\n",
        "print(pose_estimation)\n",
        "lp = []\n",
        "ls = []\n",
        "\n",
        "for i in points.findall(pose_estimation):\n",
        "    lp.append(float(i[0]))\n",
        "    lp.append(float(i[1]))\n",
        "print(lp)\n",
        "\n",
        "for s in scores.findall(pose_estimation):\n",
        "    ls.append(float(s))\n",
        "print(ls)\n",
        "\n",
        "t=0\n",
        "k=1\n",
        "p=0\n",
        "\n",
        "leng=len(ls)\n",
        "if leng<=18:\n",
        "    for i in points.findall(pose_estimation):\n",
        "        print(\"Body point\", k, \"-\", lp[t],\"|\", lp[t+1], \"    |||||||    Score:\",ls[p])\n",
        "        t+=2\n",
        "        k+=1\n",
        "        p+=1\n",
        "elif leng>18:\n",
        "    print(\"Error: too many body parts\")\n"
      ]
    },
    {
      "cell_type": "markdown",
      "metadata": {
        "id": "M1Sg0vXJXm7n"
      },
      "source": [
        "### **Завдання 2 (1,5 бали)**\n",
        "\n",
        "Написати програму підрахунку коренів квадратного рівняння без попередніх перевірок.\n",
        "\n",
        "1. Користувач має вводити коефіцієнти a, b та c з клавіатури.\n",
        "\n",
        "2. Програма має обробляти помилки ділення на 0, кореня від'ємного числа та інші, а також виводити відповідні повідомлення у разі виникнення таких помилок.\n",
        "\n",
        "3. Якщо рівняння не має коренів, программа має генерувати помилку за допомогою ключового слова raise, а потім обробляти її.\n",
        "\n",
        "4. Правильно написана програма при виникненні різних помилок має виводити текст помилки, а також різні повідомлення про те, в чому суть цих помилок. Необроблених помилок бути не повинно."
      ]
    },
    {
      "cell_type": "code",
      "execution_count": 4,
      "metadata": {
        "id": "co7fcAuvXm7o"
      },
      "outputs": [],
      "source": [
        "try:\n",
        "    try:\n",
        "        a=float(input(\"А = \"))\n",
        "    except ValueError:\n",
        "        print(\"Error. A is not digit\")\n",
        "        raise SystemExit\n",
        "\n",
        "    try:\n",
        "        b=float(input(\"B = \"))\n",
        "    except ValueError:\n",
        "        print(\"Error. B is not digit\")\n",
        "        raise SystemExit\n",
        "\n",
        "    try:\n",
        "        c=float(input(\"C = \"))\n",
        "    except ValueError:\n",
        "        print(\"Error. C is not digit\")\n",
        "        raise SystemExit\n",
        "\n",
        "    print(\"(\", end=\"\")\n",
        "    print(a, end=\"\")\n",
        "    print(\")x^2+(\", end=\"\")\n",
        "    print(b, end=\"\")\n",
        "    print(\")x+(\", end=\"\")\n",
        "    print(c,  end=\"\")\n",
        "    print(\")=0\")\n",
        "\n",
        "    x=0\n",
        "    x2=0\n",
        "    d=b**2-4*a*c\n",
        "    print(\"D =\", d)\n",
        "\n",
        "    if d>=0:\n",
        "        if a==0:\n",
        "            if c==0:\n",
        "                if b==0:\n",
        "                    print(\"X can be any number\")\n",
        "                else:\n",
        "                    print(\"X = 0\")\n",
        "            elif c!=0:\n",
        "                if b==0:\n",
        "                    raise Exception\n",
        "                else:\n",
        "                    x=-c/b\n",
        "                    print(\"X =\", round(x,2))\n",
        "        elif a!=0:\n",
        "            if d==0:\n",
        "                x = -(b/2*a)\n",
        "                print(\"X =\",round(x,2))\n",
        "            elif d!=0:\n",
        "                x = (d**0.5-b)/2*a\n",
        "                x2 = (-b-(d**0.5))/2*a\n",
        "                print(\"X =\",round(x2,2))\n",
        "                print(\"X =\",round(x,2))\n",
        "    elif d<0:\n",
        "        raise Exception\n",
        "\n",
        "except Exception:\n",
        "    print(\"Error. No roots\")\n"
      ]
    }
  ],
  "metadata": {
    "colab": {
      "collapsed_sections": [],
      "name": "Practice_7_KM-01_.ipynb",
      "provenance": []
    },
    "interpreter": {
      "hash": "ee5cc6fef2d70a7e71ee3826687cbd150f18158e0b1eef11d4f4f92bb920e304"
    },
    "kernelspec": {
      "display_name": "Python 3.9.0 64-bit",
      "name": "python3"
    },
    "language_info": {
      "codemirror_mode": {
        "name": "ipython",
        "version": 3
      },
      "file_extension": ".py",
      "mimetype": "text/x-python",
      "name": "python",
      "nbconvert_exporter": "python",
      "pygments_lexer": "ipython3",
      "version": "3.9.0"
    }
  },
  "nbformat": 4,
  "nbformat_minor": 0
}
