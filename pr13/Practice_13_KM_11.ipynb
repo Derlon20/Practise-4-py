{
  "cells": [
    {
      "cell_type": "markdown",
      "metadata": {
        "id": "FMqboNwO4rVs"
      },
      "source": [
        "# **Курс \"Програмування на мові Python\"**"
      ]
    },
    {
      "cell_type": "markdown",
      "metadata": {
        "id": "A2T6MigL5Z06"
      },
      "source": [
        "## **Практичне зайняття №13**\n",
        "\n",
        "### Тема: \"Робота з файлами\""
      ]
    },
    {
      "cell_type": "markdown",
      "metadata": {
        "id": "cfCdgK2zXm7e"
      },
      "source": [
        "### **Завдання 1 (1,5 бали)**\n",
        "\n",
        "У 1939 році друком вийшов роман американського письменика Ернеста Вінсента Райта \"Ґетсбі\". Особливу увагу публіки він здобув через те, що письменник жодного разу не використав у романі літеру \"e\" (роман складається з більше ніж 50,000 слів), яка є найбільш вживаною літерою в англійській мові.\n",
        "\n",
        "Порахуйте кількість входжень кожної літери у текст роману. Виведіть список літер англійського алфавіту, а також інформацію про те, скільки відсотків від усіх літер тексту складає кожна літера алфавіту.\n",
        "\n",
        "Зауваження:\n",
        "\n",
        "1. Програма має ігнорувати будь-які символи, окрім літер.\n",
        "\n",
        "2. Переведіть усі літери у верхній або у нижній регістр.\n",
        "\n",
        "3. Під час виведення відсортуйте літери у порядку зменшення їхнього відсотка. Літера \"e\" має стояти на останньому місці у цьому списку (хоча кілька літер e там все ж таки зустрічається).\n",
        "\n",
        "4. Виведіть перші 5 та останні 5 літер відсортованого списку разом з відсотковими значеннями, що їм відповідають. Відсотки округліть до тисячних."
      ]
    },
    {
      "cell_type": "code",
      "execution_count": 1,
      "metadata": {
        "id": "u4-fHJJ6U462",
        "tags": [
          "outputPrepend"
        ]
      },
      "outputs": [
        {
          "name": "stdout",
          "output_type": "stream",
          "text": [
            "216706 \n",
            "\n",
            "a: 23607 (10.894%)\n",
            "o: 22475 (10.371%)\n",
            "i: 19050 (8.791%)\n",
            "n: 18553 (8.561%)\n",
            "t: 18488 (8.531%)\n",
            "s: 15074 (6.956%)\n",
            "l: 11467 (5.292%)\n",
            "h: 10653 (4.916%)\n",
            "r: 10372 (4.786%)\n",
            "u: 8953 (4.131%)\n",
            "d: 8896 (4.105%)\n",
            "g: 7735 (3.569%)\n",
            "y: 6860 (3.166%)\n",
            "w: 6039 (2.787%)\n",
            "c: 5784 (2.669%)\n",
            "f: 4657 (2.149%)\n",
            "b: 4607 (2.126%)\n",
            "m: 4527 (2.089%)\n",
            "p: 4134 (1.908%)\n",
            "k: 2531 (1.168%)\n",
            "v: 729 (0.336%)\n",
            "e: 507 (0.234%)\n",
            "j: 487 (0.225%)\n",
            "z: 231 (0.107%)\n",
            "x: 176 (0.081%)\n",
            "q: 114 (0.053%)\n",
            "\n",
            "a: 10.894% \n",
            "o: 10.371% \n",
            "i: 8.791% \n",
            "n: 8.561% \n",
            "t: 8.531% \n",
            "\n",
            "e: 0.234% \n",
            "j: 0.225% \n",
            "z: 0.107% \n",
            "x: 0.081% \n",
            "q: 0.053%\n"
          ]
        }
      ],
      "source": [
        "import string\n",
        "olly=open(\"gadsby.txt\", \"r\")\n",
        "text = olly.read().lower()\n",
        "count = 0\n",
        "libor=[]\n",
        "for i in string.ascii_lowercase:\n",
        "    count=0\n",
        "    for j in text:\n",
        "        if i==j:\n",
        "            count +=1\n",
        "    libor.append(count)\n",
        "sum=0\n",
        "for i in libor:\n",
        "    sum+=i\n",
        "print(sum, \"\\n\")\n",
        "lst=sorted(libor, reverse=True)\n",
        "art=[]\n",
        "for i in lst:\n",
        "    for j in libor:\n",
        "        if j==i:\n",
        "            ind1 = list(string.ascii_lowercase)[libor.index(j)]\n",
        "            print(f\"{ind1}: {j} ({round(j*100/sum, 3)}%)\")\n",
        "            art.append(f\"{ind1}: {round(j*100/sum, 3)}%\")\n",
        "\n",
        "print(\"\")\n",
        "print(\" \\n\".join(art[:5]), \"\\n\")\n",
        "print(\" \\n\".join(art[-5:]))\n"
      ]
    },
    {
      "cell_type": "markdown",
      "metadata": {
        "id": "A34oz70eU463"
      },
      "source": [
        "### **Завдання 2 (1,5 бали)**\n",
        "\n",
        "Архів archive.zip містить 140 txt-файлів, в яких збережено інфорамцію про те, якими іменами називали дітей у США в період з 1880 по 2019 рік.\n",
        "\n",
        "Структура рядка кожного файлу така:\n",
        "\n",
        "*name,sex,number_of_occurrences*\n",
        "\n",
        "Напишіть програму, яка зчитуватиме кожен файл та визначатиме окремо чоловічі, окремо жіночі імена, що були найпопулярнішими хоча б в один з років. Далі програма повинна підраховувати, скільки разів кожне з цих імен ставало найпопулярнишим, та виводити ранжовані списки чоловічіх та жіночих імен у вигляді:\n",
        "\n",
        "```\n",
        "Michael 44\n",
        "John 44\n",
        "Robert 17\n",
        "...\n",
        "\n",
        "Mary 76\n",
        "Jennifer 15\n",
        "Emily 12\n",
        "...\n",
        "```"
      ]
    },
    {
      "cell_type": "code",
      "execution_count": 3,
      "metadata": {},
      "outputs": [
        {
          "name": "stdout",
          "output_type": "stream",
          "text": [
            "Mary 76\n",
            "Jennifer 15\n",
            "Emily 12\n",
            "Jessica 9\n",
            "Lisa 8\n",
            "Linda 6\n",
            "Emma 6\n",
            "Sophia 3\n",
            "Ashley 2\n",
            "Isabella 2\n",
            "Olivia 1\n",
            "\n",
            "John 44\n",
            "Michael 44\n",
            "Robert 17\n",
            "Jacob 14\n",
            "James 13\n",
            "Noah 4\n",
            "Liam 3\n",
            "David 1\n"
          ]
        }
      ],
      "source": [
        "import os\n",
        "import re\n",
        "finalist=os.listdir('archive')\n",
        "lst,fem_popname, mal_popname,fast, vast=[],[],[],[],[]\n",
        "for file in finalist:\n",
        "    if file.endswith(\".txt\"):\n",
        "        rely = open(\"archive\\\\\" + file, \"r\")\n",
        "        info=[]\n",
        "        for station in rely:\n",
        "            name, sex, amo = re.split(r\",\", station)\n",
        "            info.append([name, sex, int(amo)])\n",
        "        femmy, mally = [],[]\n",
        "        for i in info:\n",
        "            if i[1]=='F':\n",
        "                femmy.append(i)\n",
        "            else:\n",
        "                mally.append(i)\n",
        "        femmys=sorted(femmy, key=lambda fem: fem[2], reverse=True)[:1]\n",
        "        fem_popname.append(femmys[0][0])\n",
        "        mallys=sorted(mally, key=lambda mal: mal[2], reverse=True)[:1]\n",
        "        mal_popname.append(mallys[0][0])\n",
        "for i in fem_popname:\n",
        "    if [i, fem_popname.count(i)] not in fast:\n",
        "        fast.append([i, fem_popname.count(i)])\n",
        "clefem=sorted(fast,key=lambda fem: fem[1], reverse=True)\n",
        "for i in clefem:\n",
        "    print(f\"{i[0]} {i[1]}\")\n",
        "print(\"\")\n",
        "for i in mal_popname:\n",
        "    if [i, mal_popname.count(i)] not in vast:\n",
        "        vast.append([i, mal_popname.count(i)])\n",
        "clemal=sorted(vast,key=lambda mal: mal[1], reverse=True)\n",
        "for i in clemal:\n",
        "    print(f\"{i[0]} {i[1]}\")\n"
      ]
    }
  ],
  "metadata": {
    "colab": {
      "collapsed_sections": [],
      "name": "Practice_14_KM_01.ipynb",
      "provenance": []
    },
    "kernelspec": {
      "display_name": "Python 3",
      "name": "python3"
    },
    "language_info": {
      "codemirror_mode": {
        "name": "ipython",
        "version": 3
      },
      "file_extension": ".py",
      "mimetype": "text/x-python",
      "name": "python",
      "nbconvert_exporter": "python",
      "pygments_lexer": "ipython3",
      "version": "3.9.0"
    }
  },
  "nbformat": 4,
  "nbformat_minor": 0
}
